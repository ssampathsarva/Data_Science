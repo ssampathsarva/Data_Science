{
 "cells": [
  {
   "cell_type": "markdown",
   "id": "927500e5",
   "metadata": {},
   "source": [
    "Declare an int values and store it in a variable.\n",
    "Check the type and print the id of the same.\n"
   ]
  },
  {
   "cell_type": "code",
   "execution_count": 1,
   "id": "900a21a0",
   "metadata": {},
   "outputs": [
    {
     "name": "stdout",
     "output_type": "stream",
     "text": [
      "<class 'int'>\n",
      "1629018745232\n"
     ]
    }
   ],
   "source": [
    "a=4\n",
    "print(type(a))\n",
    "print(id(a))"
   ]
  },
  {
   "cell_type": "markdown",
   "id": "6fea3e6e",
   "metadata": {},
   "source": [
    "Take one int value between 0 - 256.\n",
    "Assign it to two different variables.\n",
    "Check the id of both the variables. It should come the same. Check why?"
   ]
  },
  {
   "cell_type": "code",
   "execution_count": 15,
   "id": "7c3d9e6c",
   "metadata": {},
   "outputs": [
    {
     "name": "stdout",
     "output_type": "stream",
     "text": [
      "1629018745168\n",
      "1629018745168\n",
      "The reason for the value of id of the the variable a: 1629018745168 and the value of id of the variable b: 1629018745168 are equal as the object reusability applies fo the integers between -5 and 256 \n"
     ]
    }
   ],
   "source": [
    "a=2\n",
    "b=2\n",
    "print(id(a))\n",
    "print(id(b))\n",
    "print(f\"The reason for the value of id of the the variable a: {id(a)} and the value of id of the variable b: {id(b)} are equal as the object reusability applies fo the integers between -5 and 256 \")"
   ]
  },
  {
   "cell_type": "code",
   "execution_count": null,
   "id": "dcdcbcac",
   "metadata": {},
   "outputs": [],
   "source": [
    "Take one int value either less than -5 or greater than 256.\n",
    "Assign it to two different variables.\n",
    "Check the id of both the variables. It should come different.Check why?"
   ]
  },
  {
   "cell_type": "code",
   "execution_count": 17,
   "id": "5cc58d38",
   "metadata": {},
   "outputs": [
    {
     "name": "stdout",
     "output_type": "stream",
     "text": [
      "1629099886256\n",
      "1629099886064\n",
      "The reason for the value of id of the variable a: 1629099886256 and the value of id of the variable b: 1629099886064 are different as the object reusability don't apply to the integers apart from the range between -5 and 256 \n"
     ]
    }
   ],
   "source": [
    "a=257\n",
    "b=257\n",
    "print(id(a))\n",
    "print(id(b))\n",
    "print(f\"The reason for the value of id of the variable a: {id(a)} and the value of id of the variable b: {id(b)} are different as the object reusability don't apply to the integers apart from the range between -5 and 256 \")"
   ]
  },
  {
   "cell_type": "markdown",
   "id": "49135fb2",
   "metadata": {},
   "source": [
    "Arithmetic Operations on integers\n",
    "Take two different integer values.\n",
    "Store them in two different variables.\n",
    "Do below operations on them:-\n",
    " Find sum of both numbers\n",
    " Find difference between them\n",
    " Find the product of both numbers.\n",
    " Find value after dividing first num with second number\n",
    " Find the remainder after dividing first number with second number\n",
    " Find the quotient after dividing first number with second number\n",
    " Find the result of the first num to the power of the second number."
   ]
  },
  {
   "cell_type": "code",
   "execution_count": 21,
   "id": "0f18f80f",
   "metadata": {},
   "outputs": [
    {
     "name": "stdout",
     "output_type": "stream",
     "text": [
      "Enter First Value:2\n",
      "Enter Second Value:3\n",
      "5\n",
      "-1\n",
      "6\n",
      "0.6666666666666666\n",
      "2\n",
      "0\n",
      "8\n"
     ]
    }
   ],
   "source": [
    "a=int(input(\"Enter First Value:\"))\n",
    "b=int(input(\"Enter Second Value:\"))\n",
    "print(a+b)\n",
    "print(a-b)\n",
    "print(a*b)\n",
    "print(a/b)\n",
    "print(a%b)\n",
    "print(a//b)\n",
    "print(a**b)"
   ]
  },
  {
   "cell_type": "markdown",
   "id": "aa70a68d",
   "metadata": {},
   "source": [
    " Comparison Operators on integers\n",
    "Take two different integer values.\n",
    "Store them in two different variables.\n",
    "Do below operations on them:-\n",
    " Compare se two numbers with below operator:-\n",
    " Greater than, '>'\n",
    " Smaller than, '<'\n",
    " Greater than or equal to, '>='\n",
    " Less than or equal to, '<='\n",
    "Observe their output(return type should be boolean)"
   ]
  },
  {
   "cell_type": "code",
   "execution_count": 1,
   "id": "2ae10c5f",
   "metadata": {},
   "outputs": [
    {
     "name": "stdout",
     "output_type": "stream",
     "text": [
      "Enter First Value:3\n",
      "Enter Second Value:4\n",
      "False\n",
      "True\n",
      "False\n",
      "True\n"
     ]
    }
   ],
   "source": [
    "a=int(input(\"Enter First Value:\"))\n",
    "b=int(input(\"Enter Second Value:\"))\n",
    "print(a>b)\n",
    "print(a<b)\n",
    "print(a>=b)\n",
    "print(a<=b)"
   ]
  },
  {
   "cell_type": "markdown",
   "id": "e93db0e9",
   "metadata": {},
   "source": [
    " Equality Operator\n",
    "Take two different integer values.\n",
    "Store them in two different variables.\n",
    "Equate them using equality operators (==, !=)\n",
    "Observe the output(return type should be boolean)\n"
   ]
  },
  {
   "cell_type": "code",
   "execution_count": 1,
   "id": "a7e80bfb",
   "metadata": {},
   "outputs": [
    {
     "name": "stdout",
     "output_type": "stream",
     "text": [
      "Enter First Value:2\n",
      "Enter Second Value:2\n",
      "True\n",
      "False\n"
     ]
    }
   ],
   "source": [
    "a=int(input(\"Enter First Value:\"))\n",
    "b=int(input(\"Enter Second Value:\"))\n",
    "print(a==b)\n",
    "print(a!=b)"
   ]
  },
  {
   "cell_type": "markdown",
   "id": "b47420ed",
   "metadata": {},
   "source": [
    "Logical operators\n",
    "Observe the output of below code\n",
    "Cross check the output manually\n",
    "print(10 and 20)\n",
    "#----------------------------------------->Output is 20\n",
    "print(0 and 20)\n",
    "#----------------------------------------->Output is 0\n",
    "print(20 and 0)\n",
    "#----------------------------------------->Output is 0\n",
    "print(0 and 0)\n",
    "#----------------------------------------->Output is 0\n",
    "print(10 or 20)\n",
    "#----------------------------------------->Output is 10\n",
    "print(0 or 20)\n",
    "#----------------------------------------->Output is 20\n",
    "print(20 or 0)\n",
    "#----------------------------------------->Output is 20\n",
    "print(0 or 0)\n",
    "#----------------------------------------->Output is 0\n",
    "print(not 10)\n",
    "#----------------------------------------->Output is False\n",
    "print(not 0)\n",
    "#----------------------------------------->Output is True"
   ]
  },
  {
   "cell_type": "code",
   "execution_count": 2,
   "id": "036ef147",
   "metadata": {},
   "outputs": [
    {
     "name": "stdout",
     "output_type": "stream",
     "text": [
      "20\n",
      "0\n",
      "0\n",
      "10\n",
      "20\n",
      "20\n",
      "0\n",
      "False\n",
      "True\n"
     ]
    }
   ],
   "source": [
    "print(10 and 20)\n",
    "print(20 and 0)\n",
    "print(0 and 0)\n",
    "print(10 or 20)\n",
    "print(0 or 20)\n",
    "print(20 or 0)\n",
    "print(0 or 0)\n",
    "print(not 10)\n",
    "print(not 0)"
   ]
  },
  {
   "cell_type": "markdown",
   "id": "d16f14d1",
   "metadata": {},
   "source": [
    "Bitwise Operators\n",
    "Do below operations on the values provided below:-\n",
    " Bitwise and(&) -----------------------------------------> 10, 20\n",
    "-------> Output is 0\n",
    " Bitwise or(|) -----------------------------------------> 10, 20\n",
    "-------> Output is 30\n",
    " Bitwise(^) -----------------------------------------> 10, 20\n",
    "-------> Output is 30\n",
    " Bitwise negation(~) ------------------------------------> 10\n",
    "-------> Output is -11\n",
    " Bitwise left shift ------------------------------------> 10,2\n",
    "-------> Output is 40\n",
    " Bitwise right shift ------------------------------------> 10,2\n",
    "-------> Output is 2\n",
    "Cross check the output manually"
   ]
  },
  {
   "cell_type": "code",
   "execution_count": 9,
   "id": "747d34b5",
   "metadata": {},
   "outputs": [
    {
     "name": "stdout",
     "output_type": "stream",
     "text": [
      "0\n",
      "30\n",
      "30\n",
      "-11\n",
      "40\n",
      "2\n",
      "10 -> 0001010 Left shift by 2 - >  0101000 which means 40.Right shift by 2 - > 0000010 which means 2\n"
     ]
    }
   ],
   "source": [
    "print(10 & 20)\n",
    "print(10 | 20)\n",
    "print(10 ^ 20)\n",
    "print(~10)\n",
    "print(10<<2)\n",
    "print(10>>2)\n",
    "print('10 -> 0001010 Left shift by 2 - >  0101000 which means 40.Right shift by 2 - > 0000010 which means 2')"
   ]
  },
  {
   "cell_type": "markdown",
   "id": "a33209e4",
   "metadata": {},
   "source": [
    "What is the output of expression inside print statement. Cross check\n",
    "before running the program.\n",
    "a = 10\n",
    "b = 10\n",
    "print(a is b) #True or False?\n",
    "print(a is not b) #True or False?\n",
    "a = 1000\n",
    "b = 1000\n",
    "print(a is b) #True or False?\n",
    "print(a is not b) #True or False?\n"
   ]
  },
  {
   "cell_type": "code",
   "execution_count": 10,
   "id": "97279075",
   "metadata": {},
   "outputs": [
    {
     "name": "stdout",
     "output_type": "stream",
     "text": [
      "True\n",
      "False\n",
      "False\n",
      "True\n"
     ]
    }
   ],
   "source": [
    "a = 10\n",
    "b = 10\n",
    "print(a is b)\n",
    "print(a is not b)\n",
    "a = 1000\n",
    "b = 1000\n",
    "print(a is b)\n",
    "print(a is not b)"
   ]
  },
  {
   "cell_type": "markdown",
   "id": "79b603f8",
   "metadata": {},
   "source": [
    "What is the output of expression inside print statement. Cross check\n",
    "before running the program.\n",
    "print(10+(10*32)//2**5&20+(~(-10))<<2)\n"
   ]
  },
  {
   "cell_type": "code",
   "execution_count": 15,
   "id": "a096a697",
   "metadata": {},
   "outputs": [
    {
     "name": "stdout",
     "output_type": "stream",
     "text": [
      "Evaluate the expression in the order of precedence as in the below steps in the order\n",
      "20\n",
      "20\n",
      "20\n",
      "20\n",
      "20\n",
      "20\n",
      "20 means 0010100 and 116 means 1110100 and the result after bitwise and on each bit is 0010100 which results in 20\n",
      "20\n"
     ]
    }
   ],
   "source": [
    "print('Evaluate the expression in the order of precedence as in the below steps in the order')\n",
    "print(10+(10*32)//2**5&20+(~(-10))<<2)\n",
    "print(10+320//2**5&20+9<<2)\n",
    "print(10+320//32&20+9<<2)\n",
    "print(10+10&20+9<<2)\n",
    "print(20&29<<2)\n",
    "print(20&116)\n",
    "print(\"20 means 0010100 and 116 means 1110100 and the result after bitwise and on each bit is 0010100 which results in 20\")\n",
    "print(20)"
   ]
  },
  {
   "cell_type": "markdown",
   "id": "f015dd20",
   "metadata": {},
   "source": [
    "Membership operation\n",
    "in, not in are two membership operators and it returns boolean value\n",
    "print('2' in 'Python2.7.8')\n",
    "print(10 in [10,10.20,10+20j,'Python'])\n",
    "print(10 in (10,10.20,10+20j,'Python'))\n",
    "print(2 in {1,2,3})\n",
    "print(3 in {1:100, 2:200, 3:300})\n",
    "print(10 in range(20))"
   ]
  },
  {
   "cell_type": "code",
   "execution_count": 23,
   "id": "4b8d7639",
   "metadata": {},
   "outputs": [
    {
     "name": "stdout",
     "output_type": "stream",
     "text": [
      "True\n",
      "True\n",
      "True\n",
      "True\n",
      "True\n",
      "False\n",
      "True\n"
     ]
    }
   ],
   "source": [
    "print('2' in 'Python2.7.8')\n",
    "print(10 in [10,10.20,10+20j,'Python'])\n",
    "print(10 in (10,10.20,10+20j,'Python'))\n",
    "print(2 in {1,2,3})\n",
    "print(3 in {1:100, 2:200, 3:300}) #This checks for keys and not the values\n",
    "print(100 in {1:100, 2:200, 3:300}) #This checks for keys and not the values\n",
    "print(10 in range(20))"
   ]
  },
  {
   "cell_type": "markdown",
   "id": "050bb01f",
   "metadata": {},
   "source": [
    "An integer can be represented in binary, octal or hexadecimal form.\n",
    "Declare one binary, one octal and one hexadecimal value and store them\n",
    "in three different variables.\n",
    "Convert 9876 to its binary, octal and hexadecimal equivalent and print\n",
    "their corresponding value.\n"
   ]
  },
  {
   "cell_type": "code",
   "execution_count": 27,
   "id": "c3c0f1cc",
   "metadata": {},
   "outputs": [
    {
     "name": "stdout",
     "output_type": "stream",
     "text": [
      "8\n",
      "4097\n",
      "4113\n",
      "The binary value of d is 0b10011010010100\n",
      "The octal value of d is 0o23224\n",
      "The hexadecimal value of d is 0x2694\n"
     ]
    }
   ],
   "source": [
    "a=0b1000\n",
    "b=0o10001\n",
    "c=0x1011\n",
    "print(int(a))\n",
    "print(int(b))\n",
    "print(int(c))\n",
    "d=9876\n",
    "print(f\"The binary value of d is {bin(d)}\")\n",
    "print(f\"The octal value of d is {oct(d)}\")\n",
    "print(f\"The hexadecimal value of d is {hex(d)}\")"
   ]
  },
  {
   "cell_type": "markdown",
   "id": "de3f6492",
   "metadata": {},
   "source": [
    "What will be the output of following:-\n",
    "a = 0b1010000\n",
    "print(a)\n",
    "b = 0o7436\n",
    "print(b)\n",
    "c = 0xfade\n",
    "print(c)\n",
    "print(bin(80))\n",
    "print(oct(3870))\n",
    "print(hex(64222))\n",
    "print(bin(0b1010000))\n",
    "print(bin(0xfade))\n",
    "print(oct(0xfade))\n",
    "print(oct(0o7436))\n",
    "print(hex(0b1010000))\n",
    "print(hex(0xfade))"
   ]
  },
  {
   "cell_type": "code",
   "execution_count": 31,
   "id": "058db4f0",
   "metadata": {},
   "outputs": [
    {
     "name": "stdout",
     "output_type": "stream",
     "text": [
      "80\n",
      "3870\n",
      "64222\n",
      "0b1010000\n",
      "0o7436\n",
      "0xfade\n",
      "0b1010000\n",
      "0b1111101011011110\n",
      "0o175336\n",
      "0o7436\n",
      "0x50\n",
      "0xfade\n",
      "Manually checked the conversions as well for my understanding\n"
     ]
    }
   ],
   "source": [
    "a = 0b1010000\n",
    "print(a)\n",
    "b = 0o7436\n",
    "print(b)\n",
    "c = 0xfade\n",
    "print(c)\n",
    "print(bin(80))\n",
    "print(oct(3870))\n",
    "print(hex(64222))\n",
    "print(bin(0b1010000))\n",
    "print(bin(0xfade))\n",
    "print(oct(0xfade))\n",
    "print(oct(0o7436))\n",
    "print(hex(0b1010000))\n",
    "print(hex(0xfade))\n",
    "print(\"Manually checked the conversions as well for my understanding\")"
   ]
  },
  {
   "cell_type": "code",
   "execution_count": 32,
   "id": "55e075cb",
   "metadata": {},
   "outputs": [
    {
     "name": "stdout",
     "output_type": "stream",
     "text": [
      "2.302585092994046\n"
     ]
    }
   ],
   "source": [
    "import math\n",
    "print(math.log(10))"
   ]
  },
  {
   "cell_type": "code",
   "execution_count": null,
   "id": "77017ac1",
   "metadata": {},
   "outputs": [],
   "source": []
  }
 ],
 "metadata": {
  "kernelspec": {
   "display_name": "Python 3 (ipykernel)",
   "language": "python",
   "name": "python3"
  },
  "language_info": {
   "codemirror_mode": {
    "name": "ipython",
    "version": 3
   },
   "file_extension": ".py",
   "mimetype": "text/x-python",
   "name": "python",
   "nbconvert_exporter": "python",
   "pygments_lexer": "ipython3",
   "version": "3.9.7"
  }
 },
 "nbformat": 4,
 "nbformat_minor": 5
}
